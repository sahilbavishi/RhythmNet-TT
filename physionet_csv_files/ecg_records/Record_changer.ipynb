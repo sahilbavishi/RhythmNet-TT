{
 "cells": [
  {
   "cell_type": "code",
   "execution_count": 4,
   "metadata": {},
   "outputs": [],
   "source": [
    "import numpy as np\n",
    "import pandas as pd\n",
    "from scipy.signal import resample\n",
    "import tqdm as tqdm"
   ]
  },
  {
   "cell_type": "code",
   "execution_count": 3,
   "metadata": {},
   "outputs": [],
   "source": [
    "def resample_ecg(ecg_data,origHz,targetHz):\n",
    "    resample_factor=targetHz/origHz\n",
    "    resampled_ecg=resample(ecg_data,int(len(ecg_data)*resample_factor))\n",
    "    return resampled_ecg"
   ]
  },
  {
   "cell_type": "code",
   "execution_count": 12,
   "metadata": {},
   "outputs": [],
   "source": [
    "array=pd.read_csv(\"A00001_ecg.csv\")\n",
    "targetHz=360\n",
    "CurrentHz=300\n",
    "new_ecg=resample_ecg(array,CurrentHz,targetHz)"
   ]
  },
  {
   "cell_type": "code",
   "execution_count": 18,
   "metadata": {},
   "outputs": [],
   "source": [
    "df=pd.DataFrame(new_ecg)\n",
    "df.to_csv(\"A00001_resamp_ecg.csv\",index=False)"
   ]
  },
  {
   "cell_type": "code",
   "execution_count": 24,
   "metadata": {},
   "outputs": [],
   "source": [
    "def save_resample(Num):\n",
    "    array=pd.read_csv(f\"A{Num:05d}_ecg.csv\")\n",
    "    targetHz=360\n",
    "    CurrentHz=300\n",
    "    new_ecg=resample_ecg(array,CurrentHz,targetHz)\n",
    "    df=pd.DataFrame(new_ecg)\n",
    "    df.to_csv(f\"A{Num:05d}_resamp_ecg.csv\",index=False)"
   ]
  },
  {
   "cell_type": "code",
   "execution_count": 28,
   "metadata": {},
   "outputs": [
    {
     "name": "stderr",
     "output_type": "stream",
     "text": [
      "100%|██████████| 8528/8528 [02:43<00:00, 52.09it/s]\n"
     ]
    }
   ],
   "source": [
    "import tqdm as tqdm\n",
    "\n",
    "for i in tqdm.tqdm(range(8528)):\n",
    "    save_resample(i+1)"
   ]
  },
  {
   "cell_type": "code",
   "execution_count": 2,
   "metadata": {},
   "outputs": [],
   "source": [
    "#Now we have the resampled data, we can re-arrange the data for the number of seconds for the model\n",
    "Seconds=3\n",
    "size_recording=Seconds*360 #get the number of records the seconds corresponds to\n",
    "#Now define a function that splits the record into the second chunks\n",
    "def split_record(Num):\n",
    "    array=np.array(pd.read_csv(f\"A{Num:05d}_resamp_ecg.csv\"))\n",
    "    startNum=0#Keeps track of the start of the record\n",
    "    length=array.shape[0]\n",
    "    new_array=array[startNum:(startNum+size_recording)].T\n",
    "    startNum+=size_recording\n",
    "    while startNum<length:\n",
    "        add_array=array[startNum:(startNum+size_recording)].T\n",
    "        if add_array.shape[1]<size_recording:\n",
    "            #If the length of the recording is shorter than the timeframe, pad it at the end\n",
    "            add_array=np.pad(add_array,pad_width=((0,0),(0,size_recording-add_array.shape[1])))\n",
    "        new_array=np.vstack([new_array,add_array])\n",
    "        startNum+=size_recording\n",
    "    #Now we can save our numpy array back in a new file:\n",
    "    data=pd.DataFrame(new_array)\n",
    "    data.to_csv(f\"A{Num:05d}_{Seconds}secs_ecg.csv\",index=False)"
   ]
  },
  {
   "cell_type": "code",
   "execution_count": 5,
   "metadata": {},
   "outputs": [
    {
     "name": "stderr",
     "output_type": "stream",
     "text": [
      "100%|██████████| 8528/8528 [02:20<00:00, 60.70it/s]\n"
     ]
    }
   ],
   "source": [
    "for i in tqdm.tqdm(range(8528)):\n",
    "    split_record(i+1)"
   ]
  }
 ],
 "metadata": {
  "kernelspec": {
   "display_name": "Python 3",
   "language": "python",
   "name": "python3"
  },
  "language_info": {
   "codemirror_mode": {
    "name": "ipython",
    "version": 3
   },
   "file_extension": ".py",
   "mimetype": "text/x-python",
   "name": "python",
   "nbconvert_exporter": "python",
   "pygments_lexer": "ipython3",
   "version": "3.12.9"
  }
 },
 "nbformat": 4,
 "nbformat_minor": 2
}
