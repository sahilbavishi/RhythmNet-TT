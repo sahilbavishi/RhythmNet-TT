{
 "cells": [
  {
   "cell_type": "code",
   "execution_count": 1,
   "metadata": {},
   "outputs": [],
   "source": [
    "from model_architectures import Bottleneck, Quite_A_Big_Model"
   ]
  },
  {
   "cell_type": "code",
   "execution_count": 5,
   "metadata": {},
   "outputs": [
    {
     "name": "stdout",
     "output_type": "stream",
     "text": [
      "\n",
      " bottleneck 1 input shape:  torch.Size([1, 1, 10])\n",
      "\n",
      " bottleneck 1st layer ouput shape:  torch.Size([1, 1, 5])\n",
      "\n",
      " bottleneck depthwise 2nd layer ouput shape:  torch.Size([1, 6, 2])\n",
      "Output before SE torch.Size([1, 1, 2])\n",
      "Output before SE after change torch.Size([1, 1, 2, 1])\n",
      "\n",
      " bottleneck ouput shape:  torch.Size([1, 1, 2])\n",
      "tensor([[[0., 0.]]], grad_fn=<SqueezeBackward1>)\n"
     ]
    }
   ],
   "source": [
    "a = Bottleneck([32,1,10], k = 6, c = 1, n = 0, s = 2)\n",
    "# a = Bottleneck([1,1,10], 2, 1, 0, 2)"
   ]
  },
  {
   "cell_type": "code",
   "execution_count": 2,
   "metadata": {},
   "outputs": [
    {
     "name": "stdout",
     "output_type": "stream",
     "text": [
      "Bottleneck  0\n",
      "\n",
      " bottleneck 1 input shape:  torch.Size([1, 1, 5])\n",
      "\n",
      " bottleneck 1st layer ouput shape:  torch.Size([1, 8, 5])\n",
      "\n",
      " bottleneck depthwise 2nd layer ouput shape:  torch.Size([1, 48, 5])\n",
      "Output before SE torch.Size([1, 8, 5])\n",
      "Output before SE after change torch.Size([1, 8, 5, 1])\n",
      "\n",
      " bottleneck ouput shape:  torch.Size([1, 8, 5])\n",
      "tensor([[[0., 0., 0., 0., 0.],\n",
      "         [0., 0., 0., 0., 0.],\n",
      "         [0., 0., 0., 0., 0.],\n",
      "         [0., 0., 0., 0., 0.],\n",
      "         [0., 0., 0., 0., 0.],\n",
      "         [0., 0., 0., 0., 0.],\n",
      "         [0., 0., 0., 0., 0.],\n",
      "         [0., 0., 0., 0., 0.]]], grad_fn=<AddBackward0>)\n"
     ]
    },
    {
     "ename": "KeyError",
     "evalue": "'Bottleneck_0_0'",
     "output_type": "error",
     "traceback": [
      "\u001b[0;31m---------------------------------------------------------------------------\u001b[0m",
      "\u001b[0;31mKeyError\u001b[0m                                  Traceback (most recent call last)",
      "Cell \u001b[0;32mIn[2], line 1\u001b[0m\n\u001b[0;32m----> 1\u001b[0m b\u001b[38;5;241m=\u001b[39mQuite_A_Big_Model([\u001b[38;5;241m1\u001b[39m,\u001b[38;5;241m1\u001b[39m,\u001b[38;5;241m10\u001b[39m],\u001b[38;5;241m12\u001b[39m,\u001b[38;5;241m5\u001b[39m)\n",
      "File \u001b[0;32m~/Documents/GitHub/MLP_CW/DummyExperiment/pytorch_mlp_framework/model_architectures.py:164\u001b[0m, in \u001b[0;36mQuite_A_Big_Model.__init__\u001b[0;34m(self, input_shape, hidden_units, output_classes)\u001b[0m\n\u001b[1;32m    162\u001b[0m \u001b[38;5;28mself\u001b[39m\u001b[38;5;241m.\u001b[39mrelu \u001b[38;5;241m=\u001b[39m nn\u001b[38;5;241m.\u001b[39mReLU()  \u001b[38;5;66;03m# Activation function\u001b[39;00m\n\u001b[1;32m    163\u001b[0m \u001b[38;5;28mself\u001b[39m\u001b[38;5;241m.\u001b[39msoftmax \u001b[38;5;241m=\u001b[39m nn\u001b[38;5;241m.\u001b[39mSoftmax(dim\u001b[38;5;241m=\u001b[39m\u001b[38;5;241m1\u001b[39m)  \u001b[38;5;66;03m# For multi-class classification\u001b[39;00m\n\u001b[0;32m--> 164\u001b[0m \u001b[38;5;28mself\u001b[39m\u001b[38;5;241m.\u001b[39mbuild_module()\n",
      "File \u001b[0;32m~/Documents/GitHub/MLP_CW/DummyExperiment/pytorch_mlp_framework/model_architectures.py:189\u001b[0m, in \u001b[0;36mQuite_A_Big_Model.build_module\u001b[0;34m(self)\u001b[0m\n\u001b[1;32m    187\u001b[0m bottleneckRepeats[i]\u001b[38;5;241m-\u001b[39m\u001b[38;5;241m=\u001b[39m\u001b[38;5;241m1\u001b[39m\n\u001b[1;32m    188\u001b[0m \u001b[38;5;66;03m#runs the values through the created bottleneck as it was created\u001b[39;00m\n\u001b[0;32m--> 189\u001b[0m out \u001b[38;5;241m=\u001b[39m \u001b[38;5;28mself\u001b[39m\u001b[38;5;241m.\u001b[39mlayer_dict[\u001b[38;5;124mf\u001b[39m\u001b[38;5;124m'\u001b[39m\u001b[38;5;124mBottleneck_\u001b[39m\u001b[38;5;132;01m{\u001b[39;00mi\u001b[38;5;132;01m}\u001b[39;00m\u001b[38;5;124m_\u001b[39m\u001b[38;5;132;01m{\u001b[39;00mbottleneckRepeats[i]\u001b[38;5;132;01m}\u001b[39;00m\u001b[38;5;124m'\u001b[39m]\u001b[38;5;241m.\u001b[39mforward(out)\n",
      "File \u001b[0;32m/opt/miniconda3/envs/mlp/lib/python3.12/site-packages/torch/nn/modules/container.py:463\u001b[0m, in \u001b[0;36mModuleDict.__getitem__\u001b[0;34m(self, key)\u001b[0m\n\u001b[1;32m    461\u001b[0m \u001b[38;5;129m@_copy_to_script_wrapper\u001b[39m\n\u001b[1;32m    462\u001b[0m \u001b[38;5;28;01mdef\u001b[39;00m \u001b[38;5;21m__getitem__\u001b[39m(\u001b[38;5;28mself\u001b[39m, key: \u001b[38;5;28mstr\u001b[39m) \u001b[38;5;241m-\u001b[39m\u001b[38;5;241m>\u001b[39m Module:\n\u001b[0;32m--> 463\u001b[0m     \u001b[38;5;28;01mreturn\u001b[39;00m \u001b[38;5;28mself\u001b[39m\u001b[38;5;241m.\u001b[39m_modules[key]\n",
      "\u001b[0;31mKeyError\u001b[0m: 'Bottleneck_0_0'"
     ]
    }
   ],
   "source": [
    "b=Quite_A_Big_Model([1,1,10],12,5)"
   ]
  },
  {
   "cell_type": "code",
   "execution_count": null,
   "metadata": {},
   "outputs": [],
   "source": []
  }
 ],
 "metadata": {
  "kernelspec": {
   "display_name": "mlp",
   "language": "python",
   "name": "python3"
  },
  "language_info": {
   "codemirror_mode": {
    "name": "ipython",
    "version": 3
   },
   "file_extension": ".py",
   "mimetype": "text/x-python",
   "name": "python",
   "nbconvert_exporter": "python",
   "pygments_lexer": "ipython3",
   "version": "3.12.5"
  }
 },
 "nbformat": 4,
 "nbformat_minor": 2
}
