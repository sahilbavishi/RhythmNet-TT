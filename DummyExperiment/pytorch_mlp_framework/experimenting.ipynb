{
 "cells": [
  {
   "cell_type": "code",
   "execution_count": 1,
   "metadata": {},
   "outputs": [],
   "source": [
    "from model_architectures import Bottleneck"
   ]
  },
  {
   "cell_type": "code",
   "execution_count": 2,
   "metadata": {},
   "outputs": [
    {
     "name": "stdout",
     "output_type": "stream",
     "text": [
      "torch.Size([1, 1, 10])\n",
      "torch.Size([1, 1, 10])\n",
      "torch.Size([1, 1, 10])\n",
      "torch.Size([1, 2, 10])\n",
      "torch.Size([1, 2, 10])\n",
      "torch.Size([1, 2, 10])\n",
      "torch.Size([1, 1, 10])\n",
      "tensor([[[0., 0., 0., 0., 0., 0., 0., 0., 0., 0.]]], grad_fn=<AddBackward0>)\n"
     ]
    }
   ],
   "source": [
    "a = Bottleneck([1,1,10], 2, 1, 0, 1)"
   ]
  },
  {
   "cell_type": "code",
   "execution_count": null,
   "metadata": {},
   "outputs": [],
   "source": []
  }
 ],
 "metadata": {
  "kernelspec": {
   "display_name": "mlp",
   "language": "python",
   "name": "python3"
  },
  "language_info": {
   "codemirror_mode": {
    "name": "ipython",
    "version": 3
   },
   "file_extension": ".py",
   "mimetype": "text/x-python",
   "name": "python",
   "nbconvert_exporter": "python",
   "pygments_lexer": "ipython3",
   "version": "3.12.5"
  }
 },
 "nbformat": 4,
 "nbformat_minor": 2
}
